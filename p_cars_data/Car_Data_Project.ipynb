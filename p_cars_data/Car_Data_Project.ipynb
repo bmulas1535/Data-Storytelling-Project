{
 "cells": [
  {
   "cell_type": "code",
   "execution_count": 1,
   "metadata": {},
   "outputs": [],
   "source": [
    "import pandas as pd\n",
    "import numpy as np\n",
    "import random as rn\n",
    "import matplotlib.pyplot as plt\n",
    "import seaborn as sns"
   ]
  },
  {
   "cell_type": "code",
   "execution_count": 2,
   "metadata": {},
   "outputs": [
    {
     "data": {
      "text/html": [
       "<div>\n",
       "<style scoped>\n",
       "    .dataframe tbody tr th:only-of-type {\n",
       "        vertical-align: middle;\n",
       "    }\n",
       "\n",
       "    .dataframe tbody tr th {\n",
       "        vertical-align: top;\n",
       "    }\n",
       "\n",
       "    .dataframe thead th {\n",
       "        text-align: right;\n",
       "    }\n",
       "</style>\n",
       "<table border=\"1\" class=\"dataframe\">\n",
       "  <thead>\n",
       "    <tr style=\"text-align: right;\">\n",
       "      <th></th>\n",
       "      <th>Make and Model</th>\n",
       "      <th>Mileage</th>\n",
       "      <th>Price</th>\n",
       "    </tr>\n",
       "  </thead>\n",
       "  <tbody>\n",
       "    <tr>\n",
       "      <th>0</th>\n",
       "      <td>2015 GMC Sierra 1500 SLT</td>\n",
       "      <td>74,281 mi.</td>\n",
       "      <td>$31,149</td>\n",
       "    </tr>\n",
       "    <tr>\n",
       "      <th>1</th>\n",
       "      <td>2013 Toyota Prius Two</td>\n",
       "      <td>114,152 mi.</td>\n",
       "      <td>$10,995</td>\n",
       "    </tr>\n",
       "    <tr>\n",
       "      <th>2</th>\n",
       "      <td>2017 Toyota Tacoma TRD Off Road</td>\n",
       "      <td>22,013 mi.</td>\n",
       "      <td>$31,995</td>\n",
       "    </tr>\n",
       "    <tr>\n",
       "      <th>3</th>\n",
       "      <td>2019 Subaru Ascent Premium 7-Passenger</td>\n",
       "      <td>2,572 mi.</td>\n",
       "      <td>$33,488</td>\n",
       "    </tr>\n",
       "    <tr>\n",
       "      <th>4</th>\n",
       "      <td>2018 Ford F-150 Lariat</td>\n",
       "      <td>10,736 mi.</td>\n",
       "      <td>$34,600</td>\n",
       "    </tr>\n",
       "  </tbody>\n",
       "</table>\n",
       "</div>"
      ],
      "text/plain": [
       "                           Make and Model      Mileage    Price\n",
       "0                2015 GMC Sierra 1500 SLT   74,281 mi.  $31,149\n",
       "1                   2013 Toyota Prius Two  114,152 mi.  $10,995\n",
       "2         2017 Toyota Tacoma TRD Off Road   22,013 mi.  $31,995\n",
       "3  2019 Subaru Ascent Premium 7-Passenger    2,572 mi.  $33,488\n",
       "4                  2018 Ford F-150 Lariat   10,736 mi.  $34,600"
      ]
     },
     "execution_count": 2,
     "metadata": {},
     "output_type": "execute_result"
    }
   ],
   "source": [
    "filepath = r'C:\\Users\\Administrator\\Documents\\training\\Data\\p_cars_data\\cars.data'\n",
    "\n",
    "df_m = pd.read_csv(filepath)\n",
    "df_m.head()"
   ]
  },
  {
   "cell_type": "code",
   "execution_count": 3,
   "metadata": {},
   "outputs": [
    {
     "data": {
      "text/plain": [
       "(2200, 3)"
      ]
     },
     "execution_count": 3,
     "metadata": {},
     "output_type": "execute_result"
    }
   ],
   "source": [
    "# Check shape of dataframe. Expecting 2,200 rows, 3 columns.\n",
    "df_m.shape"
   ]
  },
  {
   "cell_type": "code",
   "execution_count": 4,
   "metadata": {},
   "outputs": [
    {
     "data": {
      "text/html": [
       "<div>\n",
       "<style scoped>\n",
       "    .dataframe tbody tr th:only-of-type {\n",
       "        vertical-align: middle;\n",
       "    }\n",
       "\n",
       "    .dataframe tbody tr th {\n",
       "        vertical-align: top;\n",
       "    }\n",
       "\n",
       "    .dataframe thead th {\n",
       "        text-align: right;\n",
       "    }\n",
       "</style>\n",
       "<table border=\"1\" class=\"dataframe\">\n",
       "  <thead>\n",
       "    <tr style=\"text-align: right;\">\n",
       "      <th></th>\n",
       "      <th>Make and Model</th>\n",
       "      <th>Mileage</th>\n",
       "      <th>Price</th>\n",
       "      <th>mileage_int</th>\n",
       "      <th>price_int</th>\n",
       "    </tr>\n",
       "  </thead>\n",
       "  <tbody>\n",
       "    <tr>\n",
       "      <th>0</th>\n",
       "      <td>2015 GMC Sierra 1500 SLT</td>\n",
       "      <td>74,281 mi.</td>\n",
       "      <td>$31,149</td>\n",
       "      <td>74281</td>\n",
       "      <td>31149</td>\n",
       "    </tr>\n",
       "    <tr>\n",
       "      <th>1</th>\n",
       "      <td>2013 Toyota Prius Two</td>\n",
       "      <td>114,152 mi.</td>\n",
       "      <td>$10,995</td>\n",
       "      <td>114152</td>\n",
       "      <td>10995</td>\n",
       "    </tr>\n",
       "    <tr>\n",
       "      <th>2</th>\n",
       "      <td>2017 Toyota Tacoma TRD Off Road</td>\n",
       "      <td>22,013 mi.</td>\n",
       "      <td>$31,995</td>\n",
       "      <td>22013</td>\n",
       "      <td>31995</td>\n",
       "    </tr>\n",
       "    <tr>\n",
       "      <th>3</th>\n",
       "      <td>2019 Subaru Ascent Premium 7-Passenger</td>\n",
       "      <td>2,572 mi.</td>\n",
       "      <td>$33,488</td>\n",
       "      <td>2572</td>\n",
       "      <td>33488</td>\n",
       "    </tr>\n",
       "    <tr>\n",
       "      <th>4</th>\n",
       "      <td>2018 Ford F-150 Lariat</td>\n",
       "      <td>10,736 mi.</td>\n",
       "      <td>$34,600</td>\n",
       "      <td>10736</td>\n",
       "      <td>34600</td>\n",
       "    </tr>\n",
       "  </tbody>\n",
       "</table>\n",
       "</div>"
      ],
      "text/plain": [
       "                           Make and Model      Mileage    Price  mileage_int  \\\n",
       "0                2015 GMC Sierra 1500 SLT   74,281 mi.  $31,149        74281   \n",
       "1                   2013 Toyota Prius Two  114,152 mi.  $10,995       114152   \n",
       "2         2017 Toyota Tacoma TRD Off Road   22,013 mi.  $31,995        22013   \n",
       "3  2019 Subaru Ascent Premium 7-Passenger    2,572 mi.  $33,488         2572   \n",
       "4                  2018 Ford F-150 Lariat   10,736 mi.  $34,600        10736   \n",
       "\n",
       "   price_int  \n",
       "0      31149  \n",
       "1      10995  \n",
       "2      31995  \n",
       "3      33488  \n",
       "4      34600  "
      ]
     },
     "execution_count": 4,
     "metadata": {},
     "output_type": "execute_result"
    }
   ],
   "source": [
    "# Convert Mileage and Price to numeric format.\n",
    "def convert_mileage_to_int(string):\n",
    "    if type(string) != str:\n",
    "        raise NameError('Cannot convert non-string value.')\n",
    "    else:\n",
    "        x1 = string.replace(' mi.', '')\n",
    "        x2 = x1.replace(',', '')\n",
    "        return int(x2)\n",
    "def convert_price_to_int(string):\n",
    "    if type(string) !=str:\n",
    "        raise NameError('Cannot convert non-string value.')\n",
    "    else:\n",
    "        x1 = string.replace('$', '')\n",
    "        x2 = x1.replace(',','')\n",
    "        return int(x2)\n",
    "    \n",
    "def get_year(string):\n",
    "    if type(string) != str:\n",
    "        raise NameError('Cannot get string index from non-string value.')\n",
    "    else:\n",
    "        return string.strip()[:4]\n",
    "\n",
    "df_m['mileage_int'] = df_m['Mileage'].apply(convert_mileage_to_int)\n",
    "df_m['price_int'] = df_m['Price'].apply(convert_price_to_int)\n",
    "df_m.head()\n"
   ]
  },
  {
   "cell_type": "code",
   "execution_count": 61,
   "metadata": {},
   "outputs": [
    {
     "data": {
      "image/png": "[encoded data removed]",
      "text/plain": [
       "<Figure size 432x288 with 1 Axes>"
      ]
     },
     "metadata": {
      "needs_background": "light"
     },
     "output_type": "display_data"
    }
   ],
   "source": [
    "def set_name_type(data, column,new_col_name, index):\n",
    "    def get_name_type(string):\n",
    "        return string.strip().split()[index].lower()\n",
    "    data[new_col_name] = data[column].apply(get_name_type)\n",
    "    return data[new_col_name]\n",
    "\n",
    "def set_makemodel_type(data, column, new_col_name, index):\n",
    "    def get_makemodel_type(string):\n",
    "        return ' '.join(string.strip().split()[index:])\n",
    "    data[new_col_name] = data[column].apply(get_makemodel_type)\n",
    "    return data[new_col_name]\n",
    "\n",
    "df_a = df_m.copy()\n",
    "\n",
    "set_name_type(df_a, 'Make and Model', 'maker_name', 1);\n",
    "set_makemodel_type(df_a, 'Make and Model', 'model', 2)\n",
    "df_a.head()\n",
    "\n",
    "var1 = df_a[df_a['model'] == 'Sierra 1500 SLT']\n",
    "ax = plt.subplot(111)\n",
    "sns.regplot('mileage_int', 'price_int', data=var1, ax=ax)\n",
    "plt.title('Price for Mileage')\n",
    "plt.xlabel('Mileage')\n",
    "plt.ylabel('Price')\n",
    "plt.show();\n"
   ]
  },
  {
   "cell_type": "code",
   "execution_count": null,
   "metadata": {},
   "outputs": [],
   "source": []
  }
 ],
 "metadata": {
  "kernelspec": {
   "display_name": "Python 3",
   "language": "python",
   "name": "python3"
  },
  "language_info": {
   "codemirror_mode": {
    "name": "ipython",
    "version": 3
   },
   "file_extension": ".py",
   "mimetype": "text/x-python",
   "name": "python",
   "nbconvert_exporter": "python",
   "pygments_lexer": "ipython3",
   "version": "3.7.3"
  }
 },
 "nbformat": 4,
 "nbformat_minor": 2
}
